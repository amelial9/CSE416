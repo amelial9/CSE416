{
 "cells": [
  {
   "cell_type": "markdown",
   "id": "8ef99c89",
   "metadata": {},
   "source": [
    "# 1. Setting up"
   ]
  },
  {
   "cell_type": "code",
   "execution_count": 1,
   "id": "bd24707a",
   "metadata": {},
   "outputs": [],
   "source": [
    "import numpy as np\n",
    "import pandas as pd\n",
    "\n",
    "from sklearn.model_selection import train_test_split\n",
    "from sklearn.preprocessing import StandardScaler\n",
    "from sklearn.metrics import mean_squared_error\n",
    "from sklearn.linear_model import Ridge\n",
    "from sklearn.linear_model import Lasso\n",
    "from sklearn.linear_model import LinearRegression\n",
    "from sklearn.model_selection import cross_val_score\n",
    "\n",
    "np.random.seed(416)"
   ]
  },
  {
   "cell_type": "code",
   "execution_count": 2,
   "id": "19f4c24b",
   "metadata": {},
   "outputs": [
    {
     "name": "stdout",
     "output_type": "stream",
     "text": [
      "   HousePrice  HsPrc ($10,000)  CrimeRate  MilesPhila  PopChg        Name  \\\n",
      "0      140463          14.0463       29.7        10.0    -1.0    Abington   \n",
      "1      113033          11.3033       24.1        18.0     4.0      Ambler   \n",
      "2      124186          12.4186       19.5        25.0     8.0       Aston   \n",
      "3      110490          11.0490       49.4        25.0     2.7    Bensalem   \n",
      "4       79124           7.9124       54.1        19.0     3.9  Bristol B.   \n",
      "\n",
      "     County  \n",
      "0  Montgome  \n",
      "1  Montgome  \n",
      "2  Delaware  \n",
      "3     Bucks  \n",
      "4     Bucks  \n"
     ]
    }
   ],
   "source": [
    "crime = pd.read_csv('Philadelphia_Crime_Rate_noNA.csv')\n",
    "print(crime.head())"
   ]
  },
  {
   "cell_type": "markdown",
   "id": "18d64ff9",
   "metadata": {},
   "source": [
    "# 2. Pre-processing"
   ]
  },
  {
   "cell_type": "code",
   "execution_count": 3,
   "id": "6a56d4e6",
   "metadata": {},
   "outputs": [
    {
     "name": "stdout",
     "output_type": "stream",
     "text": [
      "    HousePrice  HsPrc ($10,000)  CrimeRate  MilesPhila  PopChg        Name  \\\n",
      "0       140463          14.0463       29.7        10.0    -1.0    Abington   \n",
      "1       113033          11.3033       24.1        18.0     4.0      Ambler   \n",
      "2       124186          12.4186       19.5        25.0     8.0       Aston   \n",
      "3       110490          11.0490       49.4        25.0     2.7    Bensalem   \n",
      "4        79124           7.9124       54.1        19.0     3.9  Bristol B.   \n",
      "..         ...              ...        ...         ...     ...         ...   \n",
      "94      174232          17.4232       13.8        25.0     4.7    Westtown   \n",
      "95      196515          19.6515       29.9        16.0     1.8  Whitemarsh   \n",
      "96      232714          23.2714        9.9        21.0     0.2  Willistown   \n",
      "97      245920          24.5920       22.6        10.0     0.3   Wynnewood   \n",
      "98      130953          13.0953       13.0        24.0     5.2     Yardley   \n",
      "\n",
      "      County  Bucks  Chester  Delaware  Montgome  Phila  \n",
      "0   Montgome  False    False     False      True  False  \n",
      "1   Montgome  False    False     False      True  False  \n",
      "2   Delaware  False    False      True     False  False  \n",
      "3      Bucks   True    False     False     False  False  \n",
      "4      Bucks   True    False     False     False  False  \n",
      "..       ...    ...      ...       ...       ...    ...  \n",
      "94   Chester  False     True     False     False  False  \n",
      "95  Montgome  False    False     False      True  False  \n",
      "96   Chester  False     True     False     False  False  \n",
      "97  Montgome  False    False     False      True  False  \n",
      "98     Bucks   True    False     False     False  False  \n",
      "\n",
      "[98 rows x 12 columns]\n"
     ]
    }
   ],
   "source": [
    "#One hot encoding all the county values\n",
    "one_hot = pd.get_dummies(crime['County'])\n",
    "#print(one_hot)\n",
    "\n",
    "#We then concatinate the one hot columns with original dataset.\n",
    "crime = pd.concat([crime, one_hot], axis=1)\n",
    "\n",
    "# We need to drop any and all NaN values to filter our data. So we drop any rows that contain a NaN \n",
    "crime = crime.dropna()\n",
    "print(crime)\n",
    "\n",
    "#Now, let's try to find relevant features in our dataset\n",
    "input_cols = ['HousePrice', 'MilesPhila', 'PopChg', 'Bucks', 'Chester', 'Delaware', 'Montgome', 'Phila']\n",
    "output_col = 'CrimeRate'"
   ]
  },
  {
   "cell_type": "code",
   "execution_count": 4,
   "id": "9a56d879",
   "metadata": {},
   "outputs": [],
   "source": [
    "train, test = train_test_split(crime, test_size=0.2)\n",
    "\n",
    "train_X = train[input_cols]\n",
    "train_y = train[output_col]\n",
    "\n",
    "test_X = test[input_cols]\n",
    "test_y = test[output_col]"
   ]
  },
  {
   "cell_type": "code",
   "execution_count": 5,
   "id": "025a2ace",
   "metadata": {},
   "outputs": [
    {
     "name": "stdout",
     "output_type": "stream",
     "text": [
      "train input data shape: (78, 8)\n",
      "train target data shape: (78,)\n",
      "\n",
      "test input data shape: (20, 8)\n",
      "test target data shape: (20,)\n"
     ]
    }
   ],
   "source": [
    "print(\"train input data shape:\", train_X.shape)\n",
    "print(\"train target data shape:\", train_y.shape)\n",
    "print()\n",
    "print(\"test input data shape:\", test_X.shape)\n",
    "print(\"test target data shape:\", test_y.shape)"
   ]
  },
  {
   "cell_type": "code",
   "execution_count": 6,
   "id": "65dc7186",
   "metadata": {},
   "outputs": [],
   "source": [
    "scaler = StandardScaler()\n",
    "\n",
    "scaler.fit(train_X)\n",
    "train_X_norm = scaler.transform(train_X)\n",
    "test_X_norm = scaler.transform(test_X)"
   ]
  },
  {
   "cell_type": "code",
   "execution_count": 7,
   "id": "88e90ca6",
   "metadata": {},
   "outputs": [
    {
     "name": "stdout",
     "output_type": "stream",
     "text": [
      "data type after normalizaton: <class 'numpy.ndarray'>\n"
     ]
    },
    {
     "data": {
      "text/html": [
       "<div>\n",
       "<style scoped>\n",
       "    .dataframe tbody tr th:only-of-type {\n",
       "        vertical-align: middle;\n",
       "    }\n",
       "\n",
       "    .dataframe tbody tr th {\n",
       "        vertical-align: top;\n",
       "    }\n",
       "\n",
       "    .dataframe thead th {\n",
       "        text-align: right;\n",
       "    }\n",
       "</style>\n",
       "<table border=\"1\" class=\"dataframe\">\n",
       "  <thead>\n",
       "    <tr style=\"text-align: right;\">\n",
       "      <th></th>\n",
       "      <th>0</th>\n",
       "      <th>1</th>\n",
       "      <th>2</th>\n",
       "      <th>3</th>\n",
       "      <th>4</th>\n",
       "      <th>5</th>\n",
       "      <th>6</th>\n",
       "      <th>7</th>\n",
       "    </tr>\n",
       "  </thead>\n",
       "  <tbody>\n",
       "    <tr>\n",
       "      <th>0</th>\n",
       "      <td>0.447448</td>\n",
       "      <td>0.347822</td>\n",
       "      <td>-0.906123</td>\n",
       "      <td>-0.467707</td>\n",
       "      <td>-0.467707</td>\n",
       "      <td>-0.587220</td>\n",
       "      <td>1.546384</td>\n",
       "      <td>-0.313993</td>\n",
       "    </tr>\n",
       "    <tr>\n",
       "      <th>1</th>\n",
       "      <td>0.510510</td>\n",
       "      <td>0.117418</td>\n",
       "      <td>-1.216501</td>\n",
       "      <td>-0.467707</td>\n",
       "      <td>-0.467707</td>\n",
       "      <td>-0.587220</td>\n",
       "      <td>1.546384</td>\n",
       "      <td>-0.313993</td>\n",
       "    </tr>\n",
       "    <tr>\n",
       "      <th>2</th>\n",
       "      <td>-0.692668</td>\n",
       "      <td>-2.186629</td>\n",
       "      <td>0.623599</td>\n",
       "      <td>-0.467707</td>\n",
       "      <td>-0.467707</td>\n",
       "      <td>-0.587220</td>\n",
       "      <td>-0.646670</td>\n",
       "      <td>3.184785</td>\n",
       "    </tr>\n",
       "    <tr>\n",
       "      <th>3</th>\n",
       "      <td>-0.424976</td>\n",
       "      <td>0.693429</td>\n",
       "      <td>0.823128</td>\n",
       "      <td>-0.467707</td>\n",
       "      <td>-0.467707</td>\n",
       "      <td>-0.587220</td>\n",
       "      <td>1.546384</td>\n",
       "      <td>-0.313993</td>\n",
       "    </tr>\n",
       "    <tr>\n",
       "      <th>4</th>\n",
       "      <td>-0.228859</td>\n",
       "      <td>1.384643</td>\n",
       "      <td>0.490580</td>\n",
       "      <td>2.138090</td>\n",
       "      <td>-0.467707</td>\n",
       "      <td>-0.587220</td>\n",
       "      <td>-0.646670</td>\n",
       "      <td>-0.313993</td>\n",
       "    </tr>\n",
       "    <tr>\n",
       "      <th>...</th>\n",
       "      <td>...</td>\n",
       "      <td>...</td>\n",
       "      <td>...</td>\n",
       "      <td>...</td>\n",
       "      <td>...</td>\n",
       "      <td>...</td>\n",
       "      <td>...</td>\n",
       "      <td>...</td>\n",
       "    </tr>\n",
       "    <tr>\n",
       "      <th>73</th>\n",
       "      <td>-0.487978</td>\n",
       "      <td>-0.112987</td>\n",
       "      <td>0.446240</td>\n",
       "      <td>-0.467707</td>\n",
       "      <td>-0.467707</td>\n",
       "      <td>-0.587220</td>\n",
       "      <td>1.546384</td>\n",
       "      <td>-0.313993</td>\n",
       "    </tr>\n",
       "    <tr>\n",
       "      <th>74</th>\n",
       "      <td>0.575603</td>\n",
       "      <td>1.960655</td>\n",
       "      <td>1.998131</td>\n",
       "      <td>-0.467707</td>\n",
       "      <td>2.138090</td>\n",
       "      <td>-0.587220</td>\n",
       "      <td>-0.646670</td>\n",
       "      <td>-0.313993</td>\n",
       "    </tr>\n",
       "    <tr>\n",
       "      <th>75</th>\n",
       "      <td>-1.351744</td>\n",
       "      <td>-1.725820</td>\n",
       "      <td>-1.704238</td>\n",
       "      <td>-0.467707</td>\n",
       "      <td>-0.467707</td>\n",
       "      <td>-0.587220</td>\n",
       "      <td>-0.646670</td>\n",
       "      <td>3.184785</td>\n",
       "    </tr>\n",
       "    <tr>\n",
       "      <th>76</th>\n",
       "      <td>-0.777229</td>\n",
       "      <td>-0.458594</td>\n",
       "      <td>-1.016972</td>\n",
       "      <td>-0.467707</td>\n",
       "      <td>-0.467707</td>\n",
       "      <td>1.702939</td>\n",
       "      <td>-0.646670</td>\n",
       "      <td>-0.313993</td>\n",
       "    </tr>\n",
       "    <tr>\n",
       "      <th>77</th>\n",
       "      <td>0.761470</td>\n",
       "      <td>0.117418</td>\n",
       "      <td>-0.196687</td>\n",
       "      <td>-0.467707</td>\n",
       "      <td>2.138090</td>\n",
       "      <td>-0.587220</td>\n",
       "      <td>-0.646670</td>\n",
       "      <td>-0.313993</td>\n",
       "    </tr>\n",
       "  </tbody>\n",
       "</table>\n",
       "<p>78 rows × 8 columns</p>\n",
       "</div>"
      ],
      "text/plain": [
       "           0         1         2         3         4         5         6  \\\n",
       "0   0.447448  0.347822 -0.906123 -0.467707 -0.467707 -0.587220  1.546384   \n",
       "1   0.510510  0.117418 -1.216501 -0.467707 -0.467707 -0.587220  1.546384   \n",
       "2  -0.692668 -2.186629  0.623599 -0.467707 -0.467707 -0.587220 -0.646670   \n",
       "3  -0.424976  0.693429  0.823128 -0.467707 -0.467707 -0.587220  1.546384   \n",
       "4  -0.228859  1.384643  0.490580  2.138090 -0.467707 -0.587220 -0.646670   \n",
       "..       ...       ...       ...       ...       ...       ...       ...   \n",
       "73 -0.487978 -0.112987  0.446240 -0.467707 -0.467707 -0.587220  1.546384   \n",
       "74  0.575603  1.960655  1.998131 -0.467707  2.138090 -0.587220 -0.646670   \n",
       "75 -1.351744 -1.725820 -1.704238 -0.467707 -0.467707 -0.587220 -0.646670   \n",
       "76 -0.777229 -0.458594 -1.016972 -0.467707 -0.467707  1.702939 -0.646670   \n",
       "77  0.761470  0.117418 -0.196687 -0.467707  2.138090 -0.587220 -0.646670   \n",
       "\n",
       "           7  \n",
       "0  -0.313993  \n",
       "1  -0.313993  \n",
       "2   3.184785  \n",
       "3  -0.313993  \n",
       "4  -0.313993  \n",
       "..       ...  \n",
       "73 -0.313993  \n",
       "74 -0.313993  \n",
       "75  3.184785  \n",
       "76 -0.313993  \n",
       "77 -0.313993  \n",
       "\n",
       "[78 rows x 8 columns]"
      ]
     },
     "execution_count": 7,
     "metadata": {},
     "output_type": "execute_result"
    }
   ],
   "source": [
    "print(\"data type after normalizaton:\", type(train_X_norm))\n",
    "pd.DataFrame(train_X_norm)"
   ]
  },
  {
   "cell_type": "markdown",
   "id": "c7b27797",
   "metadata": {},
   "source": [
    "# 3. Regularization with Ridge\n",
    "\n",
    "Create a [Ridge](https://scikit-learn.org/stable/modules/generated/sklearn.linear_model.Ridge.html) linear model with a regularization coefficent of 1. "
   ]
  },
  {
   "cell_type": "code",
   "execution_count": 8,
   "id": "8ed93339",
   "metadata": {},
   "outputs": [],
   "source": [
    "ridge_model = Ridge(alpha=1.0)"
   ]
  },
  {
   "cell_type": "code",
   "execution_count": 9,
   "id": "029efd53",
   "metadata": {},
   "outputs": [],
   "source": [
    "def rmse(model, X, y):\n",
    "    predictions = model.predict(X)\n",
    "    return np.sqrt(mean_squared_error(predictions, y))"
   ]
  },
  {
   "cell_type": "code",
   "execution_count": 10,
   "id": "331acb18",
   "metadata": {},
   "outputs": [
    {
     "data": {
      "text/plain": [
       "np.float64(32.9177734843289)"
      ]
     },
     "execution_count": 10,
     "metadata": {},
     "output_type": "execute_result"
    }
   ],
   "source": [
    "ridge_model.fit(train_X_norm, train_y)\n",
    "rmse(ridge_model, train_X_norm, train_y)"
   ]
  },
  {
   "cell_type": "code",
   "execution_count": 11,
   "id": "75449635",
   "metadata": {},
   "outputs": [],
   "source": [
    "ridge_CV_scores = cross_val_score(ridge_model, train_X, train_y, cv=5, scoring=rmse)"
   ]
  },
  {
   "cell_type": "code",
   "execution_count": 12,
   "id": "f25ece1c",
   "metadata": {},
   "outputs": [
    {
     "name": "stdout",
     "output_type": "stream",
     "text": [
      "0.0001\t37.50090263606724\n",
      "0.1\t37.43970007336747\n",
      "1\t36.91730282456718\n",
      "10\t33.56965319795065\n",
      "100\t29.62088364376266\n",
      "1000\t31.26781831761904\n",
      "100000.0\t32.008549856873906\n",
      "100000000.0\t32.017569248632505\n"
     ]
    }
   ],
   "source": [
    "for reg_coef in [0.0001, 0.1, 1, 10, 100, 1000, 10e4, 10e7]:\n",
    "    ridge_model = Ridge(alpha=reg_coef)\n",
    "    ridge_CV_scores = cross_val_score(ridge_model, train_X_norm, train_y, cv=5, scoring=rmse)\n",
    "    print(reg_coef, ridge_CV_scores.mean(), sep='\\t')"
   ]
  },
  {
   "cell_type": "code",
   "execution_count": 13,
   "id": "1df30d01",
   "metadata": {},
   "outputs": [
    {
     "name": "stdout",
     "output_type": "stream",
     "text": [
      "Reg coeff. |  Intercept |  ['HousePrice', 'MilesPhila', 'PopChg', 'Bucks', 'Chester', 'Delaware', 'Montgome', 'Phila']\n",
      "_________________________________________________\n",
      "0.0001  |  33.57435897435898  |  [ -3.63197189 -14.24752441  17.13681315  -2.23370832  -2.70466811\n",
      "  -7.72951492   0.04520311  18.36731872]\n",
      "\n",
      "0.1  |  33.57435897435898  |  [ -3.63608447 -14.19995246  17.07375856  -2.23448001  -2.69413453\n",
      "  -7.71463392   0.03962798  18.34037168]\n",
      "\n",
      "1  |  33.57435897435898  |  [-3.67137431e+00 -1.37880362e+01  1.65239914e+01 -2.23958735e+00\n",
      " -2.60158983e+00 -7.58471991e+00 -8.38937656e-03  1.81011014e+01]\n",
      "\n",
      "10  |  33.57435897435898  |  [ -3.88521252 -10.83241873  12.38453933  -2.18627031  -1.87616968\n",
      "  -6.57512436  -0.33331877  16.03148365]\n",
      "\n",
      "100  |  33.57435897435898  |  [-3.10333377 -4.24249064  2.75480833 -1.31121125 -0.3460951  -3.10006416\n",
      " -0.64721913  7.99392311]\n",
      "\n",
      "1000  |  33.57435897435898  |  [-0.70776377 -0.79471316  0.090652   -0.28442008 -0.07301084 -0.47373972\n",
      " -0.16754507  1.47097222]\n",
      "\n",
      "100000.0  |  33.57435897435898  |  [-8.18009356e-03 -9.10604925e-03  5.20705190e-05 -3.32803694e-03\n",
      " -9.98105332e-04 -4.90621522e-03 -1.95538237e-03  1.64237122e-02]\n",
      "\n",
      "100000000.0  |  33.57435897435898  |  [-8.19297286e-06 -9.12002321e-06  4.14115226e-08 -3.33387769e-06\n",
      " -1.00169153e-06 -4.90751552e-06 -1.95861897e-06  1.64435199e-05]\n",
      "\n"
     ]
    }
   ],
   "source": [
    "print(\"Reg coeff. | \", \"Intercept | \", input_cols)\n",
    "print(\"_________________________________________________\")\n",
    "\n",
    "for reg_coef in [0.0001, 0.1, 1, 10, 100, 1000, 10e4, 10e7]:\n",
    "    ridge_model = Ridge(alpha=reg_coef)\n",
    "    ridge_model.fit(train_X_norm, train_y)\n",
    "    print(reg_coef,\" | \", ridge_model.intercept_, \" | \", ridge_model.coef_)\n",
    "    print()"
   ]
  },
  {
   "cell_type": "code",
   "execution_count": 14,
   "id": "100ce688",
   "metadata": {},
   "outputs": [
    {
     "name": "stdout",
     "output_type": "stream",
     "text": [
      "33.57435897435898 [ -3.63196775 -14.24757222  17.13687648  -2.23370753  -2.70467868\n",
      "  -7.72952986   0.04520872  18.36734573]\n"
     ]
    }
   ],
   "source": [
    "linear_reg_model = LinearRegression()\n",
    "linear_reg_model.fit(train_X_norm, train_y)\n",
    "print(linear_reg_model.intercept_, linear_reg_model.coef_)"
   ]
  },
  {
   "cell_type": "markdown",
   "id": "18f45c9f",
   "metadata": {},
   "source": [
    "# 4. Computing final test scores"
   ]
  },
  {
   "cell_type": "code",
   "execution_count": 15,
   "id": "a26b0a94",
   "metadata": {},
   "outputs": [
    {
     "name": "stdout",
     "output_type": "stream",
     "text": [
      "Ridge 11.768449151887964\n",
      "LinearRegression 32.32637112653597\n"
     ]
    }
   ],
   "source": [
    "print(\"Ridge\", rmse(Ridge(alpha=100).fit(train_X_norm, train_y), test_X_norm, test_y))\n",
    "print(\"LinearRegression\", rmse(LinearRegression().fit(train_X_norm, train_y), test_X_norm, test_y))"
   ]
  },
  {
   "cell_type": "code",
   "execution_count": 16,
   "id": "407c6c94",
   "metadata": {},
   "outputs": [
    {
     "name": "stdout",
     "output_type": "stream",
     "text": [
      "Ridge 21.395689707502864\n",
      "LinearRegression 32.32637112653577\n"
     ]
    }
   ],
   "source": [
    "print(\"Ridge\", rmse(Ridge(alpha=100).fit(train_X, train_y), test_X, test_y))\n",
    "print(\"LinearRegression\", rmse(LinearRegression().fit(train_X, train_y), test_X, test_y))"
   ]
  }
 ],
 "metadata": {
  "kernelspec": {
   "display_name": ".venv",
   "language": "python",
   "name": "python3"
  },
  "language_info": {
   "codemirror_mode": {
    "name": "ipython",
    "version": 3
   },
   "file_extension": ".py",
   "mimetype": "text/x-python",
   "name": "python",
   "nbconvert_exporter": "python",
   "pygments_lexer": "ipython3",
   "version": "3.13.0"
  }
 },
 "nbformat": 4,
 "nbformat_minor": 5
}
