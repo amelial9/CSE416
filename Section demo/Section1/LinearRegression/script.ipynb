{
 "cells": [
  {
   "cell_type": "markdown",
   "id": "c5463898",
   "metadata": {},
   "source": [
    "# 1. Setting up"
   ]
  },
  {
   "cell_type": "code",
   "execution_count": 2,
   "id": "9d850b2e",
   "metadata": {},
   "outputs": [],
   "source": [
    "import numpy as np\n",
    "import pandas as pd\n",
    "\n",
    "from sklearn.model_selection import train_test_split\n",
    "from sklearn.preprocessing import StandardScaler\n",
    "from sklearn.metrics import mean_squared_error\n",
    "from sklearn.linear_model import LinearRegression\n",
    "from sklearn.preprocessing import PolynomialFeatures\n",
    "\n",
    "import matplotlib.pyplot as plt\n",
    "\n",
    "# Set a fixed random seed to standardize results\n",
    "np.random.seed(2) # 579"
   ]
  },
  {
   "cell_type": "code",
   "execution_count": 3,
   "id": "970698ca",
   "metadata": {},
   "outputs": [
    {
     "name": "stdout",
     "output_type": "stream",
     "text": [
      "   Data.Precipitation   Date.Full  Date.Month  Date.Week of  Date.Year  \\\n",
      "0                0.00  2016-01-03           1             3       2016   \n",
      "1                0.00  2016-01-03           1             3       2016   \n",
      "2                0.16  2016-01-03           1             3       2016   \n",
      "3                0.00  2016-01-03           1             3       2016   \n",
      "4                0.01  2016-01-03           1             3       2016   \n",
      "\n",
      "  Station.City Station.Code Station.Location Station.State  \\\n",
      "0   Birmingham          BHM   Birmingham, AL       Alabama   \n",
      "1   Huntsville          HSV   Huntsville, AL       Alabama   \n",
      "2       Mobile          MOB       Mobile, AL       Alabama   \n",
      "3   Montgomery          MGM   Montgomery, AL       Alabama   \n",
      "4    Anchorage          ANC    Anchorage, AK        Alaska   \n",
      "\n",
      "   Data.Temperature.Avg Temp  Data.Temperature.Max Temp  \\\n",
      "0                         39                         46   \n",
      "1                         39                         47   \n",
      "2                         46                         51   \n",
      "3                         45                         52   \n",
      "4                         34                         38   \n",
      "\n",
      "   Data.Temperature.Min Temp  Data.Wind.Direction  Data.Wind.Speed  \n",
      "0                         32                   33             4.33  \n",
      "1                         31                   32             3.86  \n",
      "2                         41                   35             9.73  \n",
      "3                         38                   32             6.86  \n",
      "4                         29                   19             7.80  \n"
     ]
    }
   ],
   "source": [
    "weather = pd.read_csv(\"weather.csv\")\n",
    "print(weather.head())"
   ]
  },
  {
   "cell_type": "markdown",
   "id": "64deefde",
   "metadata": {},
   "source": [
    "# 2. Pre-processing"
   ]
  },
  {
   "cell_type": "code",
   "execution_count": 4,
   "id": "8e039f76",
   "metadata": {},
   "outputs": [],
   "source": [
    "input_cols = ['Date.Month', 'Date.Week of', 'Date.Year', 'Data.Precipitation', 'Data.Temperature.Min Temp', \n",
    "'Data.Temperature.Avg Temp', 'Data.Wind.Speed', 'Data.Wind.Direction'] #TODO: choose the input columns\n",
    "output_col = 'Data.Temperature.Max Temp'"
   ]
  },
  {
   "cell_type": "code",
   "execution_count": 5,
   "id": "5432dc3a",
   "metadata": {},
   "outputs": [],
   "source": [
    "train, test = train_test_split(weather, test_size=0.2)\n",
    "\n",
    "train_X = train[input_cols]\n",
    "train_y = train[output_col]\n",
    "\n",
    "test_X = test[input_cols]\n",
    "test_y = test[output_col]"
   ]
  },
  {
   "cell_type": "code",
   "execution_count": 6,
   "id": "69608dbb",
   "metadata": {},
   "outputs": [
    {
     "name": "stdout",
     "output_type": "stream",
     "text": [
      "train input data shape: (13394, 8)\n",
      "train target data shape: (13394,)\n",
      "\n",
      "test input data shape: (3349, 8)\n",
      "test target data shape: (3349,)\n"
     ]
    }
   ],
   "source": [
    "print(\"train input data shape:\", train_X.shape)\n",
    "print(\"train target data shape:\", train_y.shape)\n",
    "print()\n",
    "print(\"test input data shape:\", test_X.shape)\n",
    "print(\"test target data shape:\", test_y.shape)"
   ]
  },
  {
   "cell_type": "markdown",
   "id": "aac2c679",
   "metadata": {},
   "source": [
    "# 3. Linear regression"
   ]
  },
  {
   "cell_type": "code",
   "execution_count": 7,
   "id": "ca6f98ef",
   "metadata": {},
   "outputs": [],
   "source": [
    "simple_linear_model = LinearRegression()"
   ]
  },
  {
   "cell_type": "code",
   "execution_count": 8,
   "id": "92b1334d",
   "metadata": {},
   "outputs": [],
   "source": [
    "def rmse(model, X, y):\n",
    "    predictions = model.predict(X)\n",
    "    return np.sqrt(mean_squared_error(predictions, y))"
   ]
  },
  {
   "cell_type": "code",
   "execution_count": 9,
   "id": "f2d88ac6",
   "metadata": {},
   "outputs": [
    {
     "data": {
      "text/plain": [
       "np.float64(1.4793314123591905)"
      ]
     },
     "execution_count": 9,
     "metadata": {},
     "output_type": "execute_result"
    }
   ],
   "source": [
    "simple_linear_model.fit(train_X, train_y)\n",
    "\n",
    "rmse(simple_linear_model, train_X, train_y)"
   ]
  },
  {
   "cell_type": "code",
   "execution_count": 10,
   "id": "6c6a3139",
   "metadata": {},
   "outputs": [
    {
     "name": "stdout",
     "output_type": "stream",
     "text": [
      "-170.16970034521972\n",
      "[-0.00475053  0.00326723  0.08454484 -0.08659625 -0.91066147  1.91234703\n",
      " -0.01746999  0.01131989]\n"
     ]
    }
   ],
   "source": [
    "print(simple_linear_model.intercept_) \n",
    "print(simple_linear_model.coef_)"
   ]
  },
  {
   "cell_type": "markdown",
   "id": "d94e977d",
   "metadata": {},
   "source": [
    "# 4. Bias - Variance and overfitting"
   ]
  },
  {
   "cell_type": "code",
   "execution_count": 11,
   "id": "2c92072c",
   "metadata": {},
   "outputs": [
    {
     "name": "stdout",
     "output_type": "stream",
     "text": [
      "Train Error:  1.4793314123591905\n",
      "Test Error:  1.0930656366443061\n"
     ]
    }
   ],
   "source": [
    "print(\"Train Error: \", rmse( simple_linear_model, train_X, train_y))\n",
    "print(\"Test Error: \", rmse(simple_linear_model, test_X, test_y))"
   ]
  },
  {
   "cell_type": "code",
   "execution_count": 12,
   "id": "0a145ebb",
   "metadata": {},
   "outputs": [
    {
     "data": {
      "image/png": "[encoded data removed]",
      "text/plain": [
       "<Figure size 640x480 with 1 Axes>"
      ]
     },
     "metadata": {},
     "output_type": "display_data"
    }
   ],
   "source": [
    "train_X, val_X, train_y, val_y = train_test_split(train_X, train_y, test_size=0.1, random_state=1)\n",
    "\n",
    "degrees = [1,2,3,4,5,6]\n",
    "train_errors = []\n",
    "val_errors = []\n",
    "for degree in degrees:\n",
    "    poly_features = PolynomialFeatures(degree) # accont for features of higher degree\n",
    "    poly_train_X = poly_features.fit_transform(train_X)\n",
    "\n",
    "    poly_linear_model = LinearRegression()\n",
    "    poly_linear_model.fit(poly_train_X, train_y)\n",
    "\n",
    "    train_errors.append(rmse(poly_linear_model, poly_train_X, train_y))\n",
    "    val_errors.append(rmse(poly_linear_model, poly_features.transform(val_X) , val_y))\n",
    "\n",
    "# validation vs train error \n",
    "plt.plot(degrees, train_errors, label = \"Train Error\")\n",
    "plt.plot(degrees, val_errors, label = \"Validation Error\")\n",
    "plt.xlabel(\"Degree\")\n",
    "plt.ylabel(\"Errors\")\n",
    "plt.legend()\n",
    "plt.show()"
   ]
  }
 ],
 "metadata": {
  "kernelspec": {
   "display_name": ".venv",
   "language": "python",
   "name": "python3"
  },
  "language_info": {
   "codemirror_mode": {
    "name": "ipython",
    "version": 3
   },
   "file_extension": ".py",
   "mimetype": "text/x-python",
   "name": "python",
   "nbconvert_exporter": "python",
   "pygments_lexer": "ipython3",
   "version": "3.13.0"
  }
 },
 "nbformat": 4,
 "nbformat_minor": 5
}
